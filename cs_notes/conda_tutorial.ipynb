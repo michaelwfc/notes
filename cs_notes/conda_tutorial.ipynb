{
  "nbformat": 4,
  "nbformat_minor": 0,
  "metadata": {
    "colab": {
      "provenance": [],
      "authorship_tag": "ABX9TyMHbEuePEsz/nNtvwhL649b",
      "include_colab_link": true
    },
    "kernelspec": {
      "name": "python3",
      "display_name": "Python 3"
    },
    "language_info": {
      "name": "python"
    }
  },
  "cells": [
    {
      "cell_type": "markdown",
      "metadata": {
        "id": "view-in-github",
        "colab_type": "text"
      },
      "source": [
        "<a href=\"https://colab.research.google.com/github/michaelwfc/notes/blob/main/cs_notes/conda_tutorial.ipynb\" target=\"_parent\"><img src=\"https://colab.research.google.com/assets/colab-badge.svg\" alt=\"Open In Colab\"/></a>"
      ]
    },
    {
      "cell_type": "markdown",
      "source": [
        " conda config command    |function| |\n",
        "------------------------|----------------|---\n",
        "conda info       ||\n",
        "conda update conda  ||\n",
        "conda config --show-sources | show config files and configs|\n",
        "conda config --remove channels |删除指定源\n",
        "conda config --add channels | 添加指定源(国内源：建议使用清华的)| conda config --add channels https://mirrors.tuna.tsinghua.edu.cn/anaconda/pkgs/free  \n",
        "conda config --set show_channel_urls yes  ||\n",
        "conda config --remove-key channels|换回默认源\n",
        "\n",
        "```\n",
        "# Do not use tabs, there must be space between http: and http://...\n",
        "C:\\Users\\username\\.condarc\n",
        "ssl_verify: false \n",
        "proxy_servers: \n",
        "  http: http://proxy.***.com:80 \n",
        "  https: http://proxy.***.com:80 \n",
        "channels: \n",
        "  - defaults \n",
        "  - https://mirrors.tuna.tsinghua.edu.cn/anaconda/cloud/conda-forge \n",
        "  - https://mirrors.tuna.tsinghua.edu.cn/anaconda/pkgs/main \n",
        "  - https://mirrors.tuna.tsinghua.edu.cn/anaconda/pkgs/free \n",
        "  - https://mirrors.tuna.tsinghua.edu.cn/anaconda/cloud/pytorch/ \n",
        "  - https://mirrors.tuna.tsinghua.edu.cn/anaconda/cloud/peterjc123/ \n",
        "  - https://mirrors.ustc.edu.cn/anaconda/cloud/menpo/ \n",
        "  - https://mirrors.ustc.edu.cn/anaconda/cloud/bioconda/ \n",
        "  - https://mirrors.ustc.edu.cn/anaconda/cloud/msys2/ \n",
        "  - https://mirrors.ustc.edu.cn/anaconda/cloud/conda-forge/ \n",
        "  - https://mirrors.ustc.edu.cn/anaconda/pkgs/free/ \n",
        "  - https://mirrors.ustc.edu.cn/anaconda/pkgs/main/ \n",
        "  - defaults \n",
        "show_channel_urls: true \n",
        "allow_other_channels: true\n",
        "```\n",
        "\n",
        " conda env command    |function| |\n",
        "------------------------|----------------|---\n",
        "conda env export > environment.yml| Create environment.yml file via conda|\n",
        "conda env create -f environment.yml -n env_test| create env from yaml\n",
        "conda info --envs | list all the conda environment available\n",
        "conda create --name envname| Create new environment named as `envname`\n",
        "conda remove --name envname --all| Remove environment and its dependencies\n",
        "conda create --name clone_envname --clone envname| Clone an existing environment\n",
        "\n",
        "\n"
      ],
      "metadata": {
        "id": "g60t2cyWo9vc"
      }
    }
  ]
}